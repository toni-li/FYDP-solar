{
 "cells": [
  {
   "cell_type": "code",
   "execution_count": 7,
   "metadata": {},
   "outputs": [
    {
     "name": "stdout",
     "output_type": "stream",
     "text": [
      "0.8723283178856399\n"
     ]
    }
   ],
   "source": [
    "\"\"\"\n",
    "from NREL-SAM documentation\n",
    "Total system losses = 100% × { 1 - [  ( 1 - Soiling ÷ 100% )\n",
    "× ( 1 - Shading ÷ 100% )\n",
    "× ( 1 - Snow ÷ 100% )\n",
    "× ( 1 - Mismatch ÷ 100% )\n",
    "× ( 1 - Wiring ÷ 100% )\n",
    "× ( 1 - Connections ÷ 100% )\n",
    "× ( 1 - Light-induced degradation ÷ 100% )\n",
    "× ( 1 - Nameplate ÷ 100% )\n",
    "× ( 1 - Age ÷ 100% )\n",
    "× ( 1 - Availability ÷ 100% )  ] }\n",
    "\"\"\"\n",
    "\n",
    "# define variables\n",
    "soiling = 0.02 # loses due to dirt/dust on panels (higher for high pollution, low rainfall areas)\n",
    "shading = 0.03 # might change to be an input from users\n",
    "snow = 0 # assume that homeowner will clear snow from panels\n",
    "mismatch = 0.02 # electrical losses due to manufacturing\n",
    "wiring = 0.02 # loss between DC and AC conversion\n",
    "connections = 0.005 # loss between electrical connectors\n",
    "nameplaterating = 0.01\n",
    "availability = 0.03\n",
    "\n",
    "totalSystemLoss = (1-soiling) * (1-shading) * (1-snow) * (1-mismatch) * (1-wiring) * (1-connections) * (1-nameplaterating) * (1-availability)\n",
    "\n",
    "print(totalSystemLoss)\n"
   ]
  },
  {
   "cell_type": "code",
   "execution_count": null,
   "metadata": {},
   "outputs": [],
   "source": []
  }
 ],
 "metadata": {
  "kernelspec": {
   "display_name": "Python 3",
   "language": "python",
   "name": "python3"
  },
  "language_info": {
   "codemirror_mode": {
    "name": "ipython",
    "version": 3
   },
   "file_extension": ".py",
   "mimetype": "text/x-python",
   "name": "python",
   "nbconvert_exporter": "python",
   "pygments_lexer": "ipython3",
   "version": "3.7.6"
  }
 },
 "nbformat": 4,
 "nbformat_minor": 4
}
