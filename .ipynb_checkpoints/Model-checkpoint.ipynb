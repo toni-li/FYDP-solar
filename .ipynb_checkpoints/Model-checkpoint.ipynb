{
 "cells": [
  {
   "cell_type": "code",
   "execution_count": 6,
   "metadata": {},
   "outputs": [
    {
     "name": "stdout",
     "output_type": "stream",
     "text": [
      "Requirement already satisfied: mip in /Users/tonili/.local/lib/python3.7/site-packages (1.9.3)\n",
      "Requirement already satisfied: cffi in /Users/tonili/opt/anaconda3/lib/python3.7/site-packages (from mip) (1.14.0)\n",
      "Requirement already satisfied: pycparser in /Users/tonili/opt/anaconda3/lib/python3.7/site-packages (from cffi->mip) (2.19)\n",
      "Z = 1888.0\n",
      "y = 2.0\n",
      "optimal number of solar panels to install is: 2.0\n",
      "Total Cost: $200.0\n"
     ]
    }
   ],
   "source": [
    "# installing and importing mip\n",
    "!pip install --user mip\n",
    "from mip import *\n",
    "import math\n",
    "\n",
    "# defining parameters\n",
    "E = 100  # monthly electricity usage (W) from user\n",
    "Cg = 0.50  # cost of electricity from the grid ($/W)\n",
    "m = 1  # monthly maintenance cost ($/panel)\n",
    "B = 200  # budget from user\n",
    "Cp = 50  # cost of each solar panel ($/panel)\n",
    "Ap = 50  # area of solar panel (ft^2)\n",
    "Ar = 100  # area of the roof (ft^2) from user\n",
    "P = 50  # capacity of each solar panel (W)\n",
    "F = 100  # fixed costs of installing solar panels\n",
    "d = []  # deterioration factor at year i (%)\n",
    "U = 0.98  # how much energy can be used (%) (factors: irradiation, shadow, direction)\n",
    "I = 25 # lifespan of solar panels\n",
    "\n",
    "Pn = math.ceil(E/P) # number of solar panels needed to offset at least 100% of electricity from the grid\n",
    "\n",
    "# filling in depreciation values (currently set to 0.2)\n",
    "for i in range(I):\n",
    "    d.append(0.02 * i)\n",
    "\n",
    "# filling in cost of electricity - TODO\n",
    "# actually calculate U properly\n",
    "\n",
    "# initializing model\n",
    "model = Model()\n",
    "\n",
    "# initializing decision variable\n",
    "y = model.add_var(name='y', var_type=INTEGER)  # number of solar panels\n",
    "\n",
    "# initializing the objective function\n",
    "# currently only looking at a time horizon of one year\n",
    "model.objective = minimize(xsum((E - ((y * P * U) * (1 - d[i]))) + (25 * m * y) for i in range(I)))\n",
    "\n",
    "# adding constraints\n",
    "model += y * Cp + F <= B  # budget constraint\n",
    "model += y * Ap <= Ar  # area of roof constraint **NEED TO ADD FACTOR TO CALCULATE USABLE ROOF SIZE**\n",
    "model += Pn - (y * U) >= 0 # limit amount of potential offset\n",
    "model += y >= 0  # non-negativity constraint\n",
    "\n",
    "# solving the MIP\n",
    "status = model.optimize()\n",
    "\n",
    "# printing solution\n",
    "if status == OptimizationStatus.OPTIMAL or status == OptimizationStatus.FEASIBLE:\n",
    "    print(\"Z = {}\".format(model.objective_value))\n",
    "    print(\"y = {}\".format(y.x))  # printing decision variable value\n",
    "    numPanels = y.x\n",
    "    print(\"optimal number of solar panels to install is: \" + str(numPanels))\n",
    "    if numPanels > 0:\n",
    "        totalCost = (numPanels * Cp) + F\n",
    "    else:\n",
    "        totalCost = 0\n",
    "    print(\"Total Cost: $\" + str(totalCost))\n",
    "if status == OptimizationStatus.NO_SOLUTION_FOUND:\n",
    "    print(\"no feasible solution :(\")\n"
   ]
  },
  {
   "cell_type": "code",
   "execution_count": null,
   "metadata": {},
   "outputs": [],
   "source": []
  }
 ],
 "metadata": {
  "kernelspec": {
   "display_name": "Python 3",
   "language": "python",
   "name": "python3"
  },
  "language_info": {
   "codemirror_mode": {
    "name": "ipython",
    "version": 3
   },
   "file_extension": ".py",
   "mimetype": "text/x-python",
   "name": "python",
   "nbconvert_exporter": "python",
   "pygments_lexer": "ipython3",
   "version": "3.7.6"
  }
 },
 "nbformat": 4,
 "nbformat_minor": 4
}
