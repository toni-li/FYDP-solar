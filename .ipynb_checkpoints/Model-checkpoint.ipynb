{
 "cells": [
  {
   "cell_type": "code",
   "execution_count": 7,
   "metadata": {},
   "outputs": [
    {
     "name": "stdout",
     "output_type": "stream",
     "text": [
      "Requirement already satisfied: mip in /Users/tonili/.local/lib/python3.7/site-packages (1.9.3)\n",
      "Requirement already satisfied: cffi in /Users/tonili/opt/anaconda3/lib/python3.7/site-packages (from mip) (1.14.0)\n",
      "Requirement already satisfied: pycparser in /Users/tonili/opt/anaconda3/lib/python3.7/site-packages (from cffi->mip) (2.19)\n",
      "[100, 98.6, 97.2196, 95.8585256, 94.5165062416, 93.1932751542176, 91.88856930205856, 90.60212933182973, 89.33369952118412, 88.08302772788754, 86.84986533969712, 85.63396722494136, 84.43509168379218, 83.2530004002191, 82.08745839461602, 80.9382339770914, 79.80509870141212, 78.68782731959234, 77.58619773711806, 76.4999909687984, 75.42899109523522, 74.37298521990192, 73.3317634268233, 72.30511873884778, 71.29284707650392]\n",
      "Z = 620.9018850916841\n",
      "y = 2.0\n",
      "optimal number of watts to install is: 100.0 W\n",
      "Total Captial Cost: $200.0\n"
     ]
    }
   ],
   "source": [
    "# installing and importing mip\n",
    "!pip install --user mip\n",
    "from mip import *\n",
    "import math\n",
    "\n",
    "# defining parameters\n",
    "E0 = 100  # monthly electricity usage (W) from user\n",
    "E = [E0] # yearly electricy usage (W) with trend\n",
    "Cg = 0.50  # cost of electricity from the grid ($/W)\n",
    "m = 1  # yearly maintenance cost ($/panel)\n",
    "B = 2000  # budget from user\n",
    "Cp = 50  # cost of each solar panel ($/panel)\n",
    "Ap = 50  # area of solar panel (ft^2)\n",
    "Ar = 100  # area of the roof (ft^2) from user\n",
    "Armax = (Ar/2) * 0.8\n",
    "P = 50  # capacity of each solar panel (W)\n",
    "F = 100  # fixed costs of installing solar panels\n",
    "d = []  # deterioration factor at year i (%)\n",
    "U = 0.98  # how much energy can be used (%) (factors: irradiation, shadow, direction)\n",
    "I = 25 # lifespan of solar panels\n",
    "\n",
    "# filling in depreciation values (currently set to 0.05)\n",
    "for i in range(I):\n",
    "    d.append(0.05 * i)\n",
    "\n",
    "# function to fill in Et - linearly decreases by 1.4%\n",
    "for i in range(1,I):\n",
    "    E.append(E[i-1] - (E[i-1]*0.014))\n",
    "\n",
    "# filling in cost of electricity and converting to present value Cgt - TODO\n",
    "# actually calculate U properly - TODO\n",
    "    # inverter efficiency ~ 3%\n",
    "    # shadows\n",
    "    \n",
    "# convert m into present value - TODO\n",
    "# FV = PV * ((1 + (i/n))^(n*t))\n",
    "\n",
    "# using E @ t=0\n",
    "Pn = math.ceil(E0/(P*U)) # number of solar panels needed to fulfill at least 100% of electricity from the grid\n",
    "\n",
    "# initializing model\n",
    "model = Model()\n",
    "\n",
    "# initializing decision variable\n",
    "y = model.add_var(name='y', var_type=INTEGER)  # number of solar panels\n",
    "\n",
    "# initializing the objective function\n",
    "# currently only looking at a time horizon of one year\n",
    "#model.objective = minimize(xsum(((E - ((y * P * U) * (1 - d[i]))) * Cg) + (25 * m * y) for i in range(I)))\n",
    "model.objective = minimize(xsum((E[i] - ((y*P*U) * (1-d[i]))) * Cg + (m * y) for i in range(I)))\n",
    "\n",
    "# adding constraints\n",
    "model += (y * Cp) + F <= B  # budget constraint\n",
    "model += y * Ap <= Armax  # area of roof constraint **NEED TO ADD FACTOR TO CALCULATE USABLE ROOF SIZE**\n",
    "model += Pn - y >= 0 # fufill demand contraint\n",
    "model += y >= 0  # non-negativity constraint\n",
    "\n",
    "# solving the MIP\n",
    "status = model.optimize()\n",
    "\n",
    "# printing solution\n",
    "if status == OptimizationStatus.OPTIMAL or status == OptimizationStatus.FEASIBLE:\n",
    "    print(\"Z = {}\".format(model.objective_value))\n",
    "    print(\"y = {}\".format(y.x))  # printing decision variable value\n",
    "    numWatts = (y.x) * P\n",
    "    numPanels = y.x\n",
    "    print(\"optimal number of watts to install is: \" + str(numWatts) + \" W\")\n",
    "    if numPanels > 0:\n",
    "        totalCost = (numPanels * Cp) + F\n",
    "    else:\n",
    "        totalCost = 0\n",
    "    print(\"Total Captial Cost: $\" + str(totalCost))\n",
    "if status == OptimizationStatus.NO_SOLUTION_FOUND:\n",
    "    print(\"no feasible solution :(\")\n"
   ]
  },
  {
   "cell_type": "code",
   "execution_count": null,
   "metadata": {},
   "outputs": [],
   "source": []
  }
 ],
 "metadata": {
  "kernelspec": {
   "display_name": "Python 3",
   "language": "python",
   "name": "python3"
  },
  "language_info": {
   "codemirror_mode": {
    "name": "ipython",
    "version": 3
   },
   "file_extension": ".py",
   "mimetype": "text/x-python",
   "name": "python",
   "nbconvert_exporter": "python",
   "pygments_lexer": "ipython3",
   "version": "3.7.6"
  }
 },
 "nbformat": 4,
 "nbformat_minor": 4
}
