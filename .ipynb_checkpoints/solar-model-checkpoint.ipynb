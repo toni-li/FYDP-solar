{
 "cells": [
  {
   "cell_type": "code",
   "execution_count": 10,
   "metadata": {
    "scrolled": true
   },
   "outputs": [
    {
     "name": "stdout",
     "output_type": "stream",
     "text": [
      "90\n",
      "Z = 79912.7618650046\n",
      "y = 19.0\n",
      "optimal number of watts to install is: 5985.0 W\n",
      "Total Captial Cost: $19258.0\n"
     ]
    },
    {
     "data": {
      "image/png": "[encoded data removed]",
      "text/plain": [
       "<Figure size 432x288 with 1 Axes>"
      ]
     },
     "metadata": {
      "needs_background": "light"
     },
     "output_type": "display_data"
    },
    {
     "data": {
      "image/png": "[encoded data removed]",
      "text/plain": [
       "<Figure size 432x288 with 1 Axes>"
      ]
     },
     "metadata": {
      "needs_background": "light"
     },
     "output_type": "display_data"
    }
   ],
   "source": [
    "# installing and importing mip\n",
    "#!pip install --user mip\n",
    "from mip import *\n",
    "import math\n",
    "import matplotlib.pyplot as plt\n",
    "import numpy as np\n",
    "\n",
    "# defining parameters\n",
    "E0 = 9000000  # yearly electricity usage (W) from user\n",
    "E = [E0]  # yearly electricity usage (W) with trend\n",
    "Cg = 0.0004944057773  # cost of electricity from the grid ($/W)\n",
    "m = 10  # yearly maintenance cost ($/panel)\n",
    "B = 20000  # budget from user\n",
    "Cp = 315*2.80  # cost of each solar panel ($/panel) (12 modules of 60cell)\n",
    "Ap = 18.9  # area of solar panel (ft^2) (40 * 68 inches)\n",
    "Ar = 2000  # area of the roof (ft^2) from user\n",
    "Armax = (Ar / 2) * 0.8\n",
    "P = 315  # capacity of each solar panel (W) per year\n",
    "F = 2500  # fixed costs of installing solar panels\n",
    "d = []  # deterioration factor at year i (%)\n",
    "U = 0.98  # how much energy can be used (%) (factors: irradiation, shadow, direction)\n",
    "I = 25  # lifespan of solar panels\n",
    "\n",
    "# filling in depreciation values (currently set to 0.07%)\n",
    "for i in range(I):\n",
    "    d.append(0.0007 * i)\n",
    "\n",
    "# function to fill in Et - linearly decreases by 1.03%\n",
    "for i in range(1, I):\n",
    "    E.append(E[i - 1] - (E[i - 1] * 0.0103))\n",
    "\n",
    "# filling in cost of electricity and converting to present value Cgt - TODO\n",
    "\n",
    "# actually calculate U properly\n",
    "# define variables\n",
    "soiling = 0.02  # loses due to dirt/dust on panels (higher for high pollution, low rainfall areas)\n",
    "shading = 0.03  # might change to be an input from users\n",
    "snow = 0  # assume that homeowner will clear snow from panels\n",
    "mismatch = 0.02  # electrical losses due to manufacturing\n",
    "wiring = 0.02  # loss between DC and AC conversion\n",
    "connections = 0.005  # loss between electrical connectors\n",
    "nameplaterating = 0.01\n",
    "availability = 0.03\n",
    "\n",
    "U = (1 - soiling) * (1 - shading) * (1 - snow) * (1 - mismatch) * (1 - wiring) * (1 - connections) * (\n",
    "        1 - nameplaterating) * (1 - availability)\n",
    "\n",
    "# convert m into present value - TODO\n",
    "# FV = PV * ((1 + (i/n))^(n*t))\n",
    "\n",
    "# using E @ t=0\n",
    "Pn = math.ceil((E0 / 365) / (P * U))  # number of solar panels needed to fulfill at least 100% of electricity from the grid\n",
    "print(Pn)\n",
    "\n",
    "# initializing model\n",
    "model = Model()\n",
    "\n",
    "# initializing decision variable\n",
    "y = model.add_var(name='y', var_type=INTEGER)  # number of solar panels\n",
    "\n",
    "# initializing the objective function\n",
    "model.objective = minimize(xsum((E[i] - ((y * P * U * 365) * (1 - d[i]))) * Cg + (m * y) for i in range(I)))\n",
    "\n",
    "# adding constraints\n",
    "model += (y * Cp) + F <= B  # budget constraint\n",
    "model += y * Ap <= Armax  # area of roof constraint **NEED TO ADD FACTOR TO CALCULATE USABLE ROOF SIZE**\n",
    "model += Pn - y >= 0  # fulfill demand constraint\n",
    "model += y >= 0  # non-negativity constraint\n",
    "\n",
    "# solving the MIP\n",
    "status = model.optimize()\n",
    "\n",
    "# printing solution\n",
    "if status == OptimizationStatus.OPTIMAL or status == OptimizationStatus.FEASIBLE:\n",
    "    print(\"Z = {}\".format(model.objective_value))\n",
    "    print(\"y = {}\".format(y.x))  # printing decision variable value\n",
    "    numWatts = y.x * P\n",
    "    numPanels = y.x\n",
    "    print(\"optimal number of watts to install is: \" + str(numWatts) + \" W\")\n",
    "    if numPanels > 0:\n",
    "        totalCost = (numPanels * Cp) + F\n",
    "    else:\n",
    "        totalCost = 0\n",
    "    print(\"Total Captial Cost: $\" + str(totalCost))\n",
    "if status == OptimizationStatus.NO_SOLUTION_FOUND:\n",
    "    print(\"no feasible solution :(\")\n",
    "\n",
    "# yearly grid energy cost w/o solar vs. yearly grid energy cost w/ solar (grouped bar chart)\n",
    "# set width of bar\n",
    "barWidth = 0.40\n",
    "\n",
    "# set height of each bar\n",
    "costsWithoutSolar = []\n",
    "for i in range(i + 1):\n",
    "    costsWithoutSolar.append(E[i] * Cg)  # will need to change to Cgt\n",
    "#print(costsWithoutSolar)\n",
    "\n",
    "costsWithSolar = []\n",
    "for i in range(i + 1):\n",
    "    costsWithSolar.append(max(0, (E[i] - (numPanels * P * U * 365 * (1 - d[i]))) * Cg))  # will need to change to Cgt\n",
    "#print(costsWithSolar)\n",
    "\n",
    "# set position of bar on X axis\n",
    "r1 = np.arange(len(costsWithoutSolar))\n",
    "r2 = [x + barWidth for x in r1]\n",
    "\n",
    "#make the plot\n",
    "plt.bar(r1, costsWithoutSolar, color='#e0e9ddff', width=barWidth, edgecolor='white', label='Cost without solar')\n",
    "plt.bar(r2, costsWithSolar, color='#ffe599ff', width=barWidth, edgecolor='white', label='Cost with solar')\n",
    "\n",
    "plt.legend()\n",
    "plt.show()\n",
    "\n",
    "\n",
    "# payback period (line graph)\n",
    "year = []\n",
    "for i in range(I):\n",
    "    year.append(i)\n",
    "\n",
    "savings = []\n",
    "for i in range(I):\n",
    "    savings.append(costsWithoutSolar[i] - costsWithSolar[i])\n",
    "#print(savings)\n",
    "\n",
    "yoySavings = [totalCost]\n",
    "for i in range(1, I):\n",
    "    yoySavings.append(max(0,yoySavings[i-1] - savings[i-1]))\n",
    "#print(yoySavings)\n",
    "\n",
    "plt.xlim(0, 25)\n",
    "plt.ylim(0, totalCost + 1000)\n",
    "plt.xlabel('year')\n",
    "plt.ylabel('$')\n",
    "plt.title('Payback Period')\n",
    "plt.plot(year, yoySavings, color='#e0e9ddff')\n",
    "plt.show()"
   ]
  },
  {
   "cell_type": "code",
   "execution_count": null,
   "metadata": {},
   "outputs": [],
   "source": []
  }
 ],
 "metadata": {
  "kernelspec": {
   "display_name": "Python 3",
   "language": "python",
   "name": "python3"
  },
  "language_info": {
   "codemirror_mode": {
    "name": "ipython",
    "version": 3
   },
   "file_extension": ".py",
   "mimetype": "text/x-python",
   "name": "python",
   "nbconvert_exporter": "python",
   "pygments_lexer": "ipython3",
   "version": "3.7.6"
  }
 },
 "nbformat": 4,
 "nbformat_minor": 4
}
