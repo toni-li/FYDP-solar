{
 "cells": [
  {
   "cell_type": "code",
   "execution_count": 2,
   "metadata": {},
   "outputs": [
    {
     "name": "stdout",
     "output_type": "stream",
     "text": [
      "Requirement already satisfied: mip in /Users/tonili/.local/lib/python3.7/site-packages (1.9.3)\n",
      "Requirement already satisfied: cffi in /Users/tonili/opt/anaconda3/lib/python3.7/site-packages (from mip) (1.14.0)\n",
      "Requirement already satisfied: pycparser in /Users/tonili/opt/anaconda3/lib/python3.7/site-packages (from cffi->mip) (2.19)\n",
      "25.0\n",
      "50.0\n"
     ]
    }
   ],
   "source": [
    "!pip install --user mip\n",
    "\n",
    "from mip import *\n",
    "\n",
    "E = 100  # monthly electricity usage (W) from user\n",
    "Cg = 0.50  # cost of electricity from the grid ($/W)\n",
    "m = 0.20  # monthly maintenance cost ($/W)\n",
    "B = 100  # budget from user\n",
    "Cp = 50\n",
    "P = 50  # capacity of each solar panel (W)\n",
    "F = 100  # fixed costs of installing solar panels\n",
    "\n",
    "model = Model()\n",
    "\n",
    "# initializing decision variable\n",
    "x = model.add_var(name='x', var_type=INTEGER)  # energy generated from solar panel system\n",
    "\n",
    "model.objective = minimize((E - x) * Cg)\n",
    "\n",
    "# adding constraints\n",
    "model += (x / P) * F <= B  # budget constraint\n",
    "model += x >= 0\n",
    "\n",
    "# solving the MIP\n",
    "model.optimize()\n",
    "\n",
    "# printing solutions\n",
    "if model.num_solutions:\n",
    "    print(model.objective_value) # printing objective function value\n",
    "    print(x.x) # printing decision variable value\n"
   ]
  },
  {
   "cell_type": "code",
   "execution_count": null,
   "metadata": {},
   "outputs": [],
   "source": []
  }
 ],
 "metadata": {
  "kernelspec": {
   "display_name": "Python 3",
   "language": "python",
   "name": "python3"
  },
  "language_info": {
   "codemirror_mode": {
    "name": "ipython",
    "version": 3
   },
   "file_extension": ".py",
   "mimetype": "text/x-python",
   "name": "python",
   "nbconvert_exporter": "python",
   "pygments_lexer": "ipython3",
   "version": "3.7.6"
  }
 },
 "nbformat": 4,
 "nbformat_minor": 4
}
