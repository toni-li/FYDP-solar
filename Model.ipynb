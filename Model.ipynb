{
 "cells": [
  {
   "cell_type": "code",
   "execution_count": 24,
   "metadata": {},
   "outputs": [
    {
     "name": "stdout",
     "output_type": "stream",
     "text": [
      "Requirement already satisfied: mip in /Users/tonili/.local/lib/python3.7/site-packages (1.9.3)\r\n",
      "Requirement already satisfied: cffi in /Users/tonili/opt/anaconda3/lib/python3.7/site-packages (from mip) (1.14.0)\r\n",
      "Requirement already satisfied: pycparser in /Users/tonili/opt/anaconda3/lib/python3.7/site-packages (from cffi->mip) (2.19)\r\n"
     ]
    },
    {
     "ename": "TypeError",
     "evalue": "unsupported operand type(s) for %: 'int' and 'Var'",
     "output_type": "error",
     "traceback": [
      "\u001b[0;31m---------------------------------------------------------------------------\u001b[0m",
      "\u001b[0;31mTypeError\u001b[0m                                 Traceback (most recent call last)",
      "\u001b[0;32m<ipython-input-24-668fc5d6ee9b>\u001b[0m in \u001b[0;36m<module>\u001b[0;34m\u001b[0m\n\u001b[1;32m     27\u001b[0m \u001b[0mmodel\u001b[0m \u001b[0;34m+=\u001b[0m \u001b[0;34m(\u001b[0m\u001b[0mx\u001b[0m\u001b[0;34m/\u001b[0m\u001b[0mP\u001b[0m\u001b[0;34m)\u001b[0m \u001b[0;34m*\u001b[0m \u001b[0mF\u001b[0m \u001b[0;34m<=\u001b[0m \u001b[0mB\u001b[0m  \u001b[0;31m# budget constraint\u001b[0m\u001b[0;34m\u001b[0m\u001b[0;34m\u001b[0m\u001b[0m\n\u001b[1;32m     28\u001b[0m \u001b[0mmodel\u001b[0m \u001b[0;34m+=\u001b[0m \u001b[0;34m(\u001b[0m\u001b[0mx\u001b[0m\u001b[0;34m/\u001b[0m\u001b[0mP\u001b[0m\u001b[0;34m)\u001b[0m \u001b[0;34m*\u001b[0m \u001b[0mAp\u001b[0m \u001b[0;34m<=\u001b[0m \u001b[0mAr\u001b[0m \u001b[0;31m# area of roof constraint **NEED TO ADD FACTOR TO CALCULATE USABLE ROOF SIZE**\u001b[0m\u001b[0;34m\u001b[0m\u001b[0;34m\u001b[0m\u001b[0m\n\u001b[0;32m---> 29\u001b[0;31m \u001b[0mmodel\u001b[0m \u001b[0;34m+=\u001b[0m \u001b[0mP\u001b[0m \u001b[0;34m%\u001b[0m \u001b[0mx\u001b[0m \u001b[0;34m==\u001b[0m \u001b[0;36m0\u001b[0m\u001b[0;34m\u001b[0m\u001b[0;34m\u001b[0m\u001b[0m\n\u001b[0m\u001b[1;32m     30\u001b[0m \u001b[0mmodel\u001b[0m \u001b[0;34m+=\u001b[0m \u001b[0mx\u001b[0m \u001b[0;34m>=\u001b[0m \u001b[0;36m0\u001b[0m \u001b[0;31m# non-negativity constraint\u001b[0m\u001b[0;34m\u001b[0m\u001b[0;34m\u001b[0m\u001b[0m\n\u001b[1;32m     31\u001b[0m \u001b[0;34m\u001b[0m\u001b[0m\n",
      "\u001b[0;31mTypeError\u001b[0m: unsupported operand type(s) for %: 'int' and 'Var'"
     ]
    }
   ],
   "source": [
    "# installing and importing mip\n",
    "!pip install --user mip\n",
    "from mip import *\n",
    "\n",
    "# defining parameters\n",
    "E = 100  # monthly electricity usage (W) from user\n",
    "Cg = 0.50  # cost of electricity from the grid ($/W)\n",
    "m = 0  # monthly maintenance cost ($/W)\n",
    "B = 200  # budget from user\n",
    "Cp = 50 # cost of each solar panel ($)\n",
    "Ap = 50 # area of solar panel (ft^2)\n",
    "Ar = 100 # area of the roof (ft^2) from user\n",
    "P = 50  # capacity of each solar panel (W)\n",
    "F = 100  # fixed costs of installing solar panels\n",
    "\n",
    "# initializing model\n",
    "model = Model()\n",
    "\n",
    "# initializing decision variable\n",
    "x = model.add_var(name='x', var_type=INTEGER)  # energy generated from solar panel system\n",
    "\n",
    "# initializing the objective function\n",
    "# currently only looking at a time horizon of one year\n",
    "model.objective = minimize((E - x) * Cg + 12*m*x)\n",
    "\n",
    "# adding constraints\n",
    "model += (x/P) * F <= B  # budget constraint\n",
    "model += (x/P) * Ap <= Ar # area of roof constraint **NEED TO ADD FACTOR TO CALCULATE USABLE ROOF SIZE**\n",
    "model += x >= 0 # non-negativity constraint\n",
    "\n",
    "# solving the MIP\n",
    "status = model.optimize()\n",
    "\n",
    "# printing solution\n",
    "if status == OptimizationStatus.OPTIMAL or status == OptimizationStatus.FEASIBLE:\n",
    "    print(\"Z = {}\".format(model.objective_value))\n",
    "    print(\"x = {}\".format(x.x)) # printing decision variable value\n",
    "    numPanels = int(x.x)/P\n",
    "    print(\"optimal number of solar panels to install is: \" + str(numPanels))\n",
    "    totalCost = (numPanels * Cp) + F\n",
    "    print(\"Total Cost: $\" + str(totalCost))\n",
    "if status == OptimizationStatus.NO_SOLUTION_FOUND:\n",
    "    print(\"no feasible solution :(\")\n",
    "   "
   ]
  },
  {
   "cell_type": "code",
   "execution_count": null,
   "metadata": {},
   "outputs": [],
   "source": []
  }
 ],
 "metadata": {
  "kernelspec": {
   "display_name": "Python 3",
   "language": "python",
   "name": "python3"
  },
  "language_info": {
   "codemirror_mode": {
    "name": "ipython",
    "version": 3
   },
   "file_extension": ".py",
   "mimetype": "text/x-python",
   "name": "python",
   "nbconvert_exporter": "python",
   "pygments_lexer": "ipython3",
   "version": "3.7.6"
  }
 },
 "nbformat": 4,
 "nbformat_minor": 4
}
