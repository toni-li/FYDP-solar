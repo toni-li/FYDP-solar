{
 "cells": [
  {
   "cell_type": "code",

   "execution_count": 7,
   "metadata": {
    "scrolled": true
   },
   "outputs": [
    {
     "name": "stdout",
     "output_type": "stream",
     "text": [
      "Z = 9950.381000162488\n",
      "y = 19.0\n",
      "optimal number of watts to install is: 5985.0 W\n",
      "Total Captial Cost: $19258.0\n",
      "26\n"
     ]
    },
    {
     "data": {
      "image/png": "[encoded data removed]",

      "text/plain": [
       "<Figure size 432x288 with 1 Axes>"
      ]
     },
     "metadata": {
      "needs_background": "light"
     },
     "output_type": "display_data"
    },
    {
     "name": "stdout",
     "output_type": "stream",
     "text": [
      "[895.6327891608552, 911.1159514401944, 928.6872779849314, 993.0899881578514, 1012.2412297348089, 1031.7612848345605, 1051.6572455604153, 1071.9363396142207, 1092.6059353261426, 1084.4761063444962, 1105.38640331599, 1126.6993221996295, 1148.4226024895129, 1170.5641352447194, 1193.1319596868575, 1216.1342709246119, 1239.5794227834392, 1263.4759264582242, 1287.8324588740404, 1312.6578620030346, 1337.9611477192507, 1363.7515026298674, 1390.0382866615057, 1416.83104201101, 1444.1394917007967]\n"
     ]
    },
    {
     "data": {
      "image/png": "[encoded data removed]",

      "text/plain": [
       "<Figure size 432x288 with 1 Axes>"
      ]
     },
     "metadata": {
      "needs_background": "light"
     },
     "output_type": "display_data"
    }
   ],
   "source": [
    "# installing and importing mip\n",
    "#!pip install --user mip\n",
    "from mip import *\n",
    "import math\n",
    "import matplotlib.pyplot as plt\n",
    "import numpy as np\n",
    "\n",
    "# defining parameters\n",
    "E0 = 9000000  # yearly electricity usage (W) from user\n",
    "E = [E0]  # yearly electricity usage (W) with trend\n",
    "Cg = [0.00012757,0.00012986626,0.0001324635852,0.0001417490483,0.0001445840293,0.0001474757099,0.0001504252241,0.0001534337285, 0.0001565024031,0.0001554473307,0.0001585562773,0.0001617274029,0.0001649619509,0.00016826119, 0.0001716264138,0.000175058942,0.0001785601209,0.0001821313233,0.0001857739498,0.0001894894288,0.0001932792173,0.0001971448017,0.0002010876977,0.0002051094517,0.0002092116407,0.0002133958735,0.000217663791] # cost of electricity from the grid ($/W)\n",
    "m = [10]  # yearly maintenance cost ($/panel)\n",
    "B = 20000  # budget from user\n",
    "Cp = 315*2.80  # cost of each solar panel ($/panel) (12 modules of 60cell)\n",
    "Ap = 18.9  # area of solar panel (ft^2) (40 * 68 inches)\n",
    "Ar = 1700  # area of the roof (ft^2) from user\n",
    "Armax = (Ar / 2) * 0.8\n",
    "P = 315 # capacity of each solar panel (W) per hour\n",
    "F = 2500  # fixed costs of installing solar panels\n",
    "d = []  # deterioration factor at year i (%)\n",
    "U = 0.98  # how much energy can be used (%) (factors: irradiation, shadow, direction)\n",
    "T = 25  # lifespan of solar panels\n",
    "sh = 5 # average number of direct sunlight hours (Toronto, Ontario)\n",
    "\n",
    "\n",
    "# filling in depreciation values (currently set to 0.07%)\n",
    "for t in range(T):\n",
    "    d.append(0.0007 * t)\n",
    "\n",
    "# function to fill in Et - linearly decreases by 1.03%\n",
    "for t in range(1, T):\n",
    "    E.append(E[t - 1] - (E[t - 1] * 0.0103))\n",
    "\n",
    "# calculating U\n",
    "# define variables\n",
    "soiling = 0.02  # loses due to dirt/dust on panels (higher for high pollution, low rainfall areas)\n",
    "shading = 0.03  # might change to be an input from users\n",
    "snow = 0  # assume that homeowner will clear snow from panels\n",
    "mismatch = 0.02  # electrical losses due to manufacturing\n",
    "wiring = 0.02  # loss between DC and AC conversion\n",
    "connections = 0.005  # loss between electrical connectors\n",
    "nameplaterating = 0.01\n",
    "availability = 0.03\n",
    "\n",
    "U = (1 - soiling) * (1 - shading) * (1 - snow) * (1 - mismatch) * (1 - wiring) * (1 - connections) * (\n",
    "        1 - nameplaterating) * (1 - availability)\n",
    "\n",
    "# convert m into present value - TODO\n",
    "i = 0.00206\n",
    "for t in range(1,T):\n",
    "    m.append(10/((1+i) ** t))\n",
    "\n",
    "# using E @ t=0\n",
    "Pn = math.ceil((E0 / 365) / (P * 0.146 *24 * U))  # number of solar panels needed to fulfill at least 100% of electricity from the grid\n",
    "\n",
    "# initializing model\n",
    "model = Model()\n",
    "\n",
    "# initializing decision variable\n",
    "y = model.add_var(name='y', var_type=INTEGER)  # number of solar panels\n",
    "\n",
    "# initializing the objective function\n",
    "model.objective = minimize(xsum((E[t] - ((y * P * 0.146 *24 * U * 365) * (1 - d[t]))) * Cg[t] + (m[t] * y) for t in range(T)))\n",
    "\n",
    "# adding constraints\n",
    "model += (y * Cp) + F <= B  # budget constraint\n",
    "model += y * Ap <= Armax  # area of roof constraint **NEED TO ADD FACTOR TO CALCULATE USABLE ROOF SIZE**\n",
    "model += Pn - y >= 0  # fulfill demand constraint\n",
    "model += y >= 0  # non-negativity constraint\n",
    "\n",
    "# solving the MIP\n",
    "status = model.optimize()\n",
    "\n",
    "# printing solution\n",
    "if status == OptimizationStatus.OPTIMAL or status == OptimizationStatus.FEASIBLE:\n",
    "    print(\"Z = {}\".format(model.objective_value))\n",
    "    print(\"y = {}\".format(y.x))  # printing decision variable value\n",
    "    numWatts = y.x * P\n",
    "    numPanels = y.x\n",
    "    print(\"optimal number of watts to install is: \" + str(numWatts) + \" W\")\n",
    "    if numPanels > 0:\n",
    "        totalCost = (numPanels * Cp) + F\n",
    "    else:\n",
    "        totalCost = 0\n",
    "    print(\"Total Captial Cost: $\" + str(totalCost))\n",
    "if status == OptimizationStatus.NO_SOLUTION_FOUND:\n",
    "    print(\"no feasible solution :(\")\n",
    "\n",
    "# yearly grid energy cost w/o solar vs. yearly grid energy cost w/ solar (grouped bar chart)\n",
    "# set width of bar\n",
    "barWidth = 0.40\n",
    "\n",
    "# set height of each bar\n",
    "costsWithoutSolar = []\n",
    "for t in range(T):\n",
    "    costsWithoutSolar.append(E[t] * Cg[t])\n",
    "#print(costsWithoutSolar)\n",
    "\n",
    "costsWithSolar = []\n",
    "for t in range(T):\n",
    "    costsWithSolar.append(max(0, (E[t] - ((numPanels * P * 0.146 * 24 * U * 365) * (1 - d[t]))) * Cg[t]))  # will need to change to Cgt\n",
    "#print(costsWithSolar)\n",
    "\n",
    "# set position of bar on X axis\n",
    "r1 = np.arange(len(costsWithoutSolar))\n",
    "r2 = [x + barWidth for x in r1]\n",
    "\n",
    "#make the plot\n",
    "plt.bar(r1, costsWithoutSolar, color='#e0e9ddff', width=barWidth, edgecolor='white', label='Cost without solar')\n",
    "plt.bar(r2, costsWithSolar, color='#ffe599ff', width=barWidth, edgecolor='white', label='Cost with solar')\n",
    "\n",
    "plt.xlabel('year')\n",
    "plt.ylabel('$')\n",
    "plt.title('Annual Spend on Grid Electricity')\n",
    "plt.legend()\n",
    "plt.show()\n",
    "\n",
    "\n",
    "# payback period (line graph)\n",
    "year = []\n",
    "for t in range(T):\n",
    "    year.append(t)\n",
    "\n",
    "savings = []\n",
    "for t in range(T):\n",
    "    savings.append(costsWithoutSolar[t] - costsWithSolar[t])\n",
    "#print(np.sum(savings)) # total savings\n",
    "\n",
    "yoySavings = [totalCost]\n",
    "for t in range(1, T):\n",
    "    yoySavings.append(max(0,yoySavings[t-1] - savings[t-1]))\n",
    "#print(yoySavings)\n",
    "\n",
    "plt.xlim(0, 25)\n",
    "plt.ylim(0, totalCost + 1000)\n",
    "plt.xlabel('year')\n",
    "plt.ylabel('$')\n",
    "plt.title('Payback Period')\n",
    "plt.plot(year, yoySavings, color='#e0e9ddff', linewidth=2)\n",
    "plt.show()"
   ]
  },
  {
   "cell_type": "code",
   "execution_count": null,
   "metadata": {},
   "outputs": [],
   "source": []
  },
  {
   "cell_type": "code",
   "execution_count": null,
   "metadata": {},
   "outputs": [],
   "source": []
  }
 ],
 "metadata": {
  "kernelspec": {
   "display_name": "Python 3",
   "language": "python",
   "name": "python3"
  },
  "language_info": {
   "codemirror_mode": {
    "name": "ipython",
    "version": 3
   },
   "file_extension": ".py",
   "mimetype": "text/x-python",
   "name": "python",
   "nbconvert_exporter": "python",
   "pygments_lexer": "ipython3",
   "version": "3.7.3"
  }
 },
 "nbformat": 4,
 "nbformat_minor": 4
}
